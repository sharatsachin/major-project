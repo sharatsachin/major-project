{
  "nbformat": 4,
  "nbformat_minor": 0,
  "metadata": {
    "colab": {
      "name": "gru3cnn.ipynb",
      "provenance": [],
      "collapsed_sections": []
    },
    "kernelspec": {
      "name": "python3",
      "display_name": "Python 3"
    }
  },
  "cells": [
    {
      "cell_type": "code",
      "metadata": {
        "id": "KxpgCnADIdOk",
        "colab_type": "code",
        "colab": {
          "base_uri": "https://localhost:8080/",
          "height": 34
        },
        "outputId": "b4ba5b29-b2b6-469f-acf0-7b5d9d783a6f"
      },
      "source": [
        " %tensorflow_version 1.x\n",
        "\n",
        "import os\n",
        "os.environ['TF_CPP_MIN_LOG_LEVEL'] = '1' \n",
        "import tensorflow as tf"
      ],
      "execution_count": 1,
      "outputs": [
        {
          "output_type": "stream",
          "text": [
            "TensorFlow 1.x selected.\n"
          ],
          "name": "stdout"
        }
      ]
    },
    {
      "cell_type": "code",
      "metadata": {
        "id": "73z-l64Ywomq",
        "colab_type": "code",
        "outputId": "06238947-3a9f-4e1f-c783-18ba44c8ba3f",
        "colab": {
          "base_uri": "https://localhost:8080/",
          "height": 34
        }
      },
      "source": [
        "from google.colab import drive\n",
        "drive.mount('/content/drive', force_remount=True)"
      ],
      "execution_count": 2,
      "outputs": [
        {
          "output_type": "stream",
          "text": [
            "Mounted at /content/drive\n"
          ],
          "name": "stdout"
        }
      ]
    },
    {
      "cell_type": "markdown",
      "metadata": {
        "id": "bOeoWqczg2HZ",
        "colab_type": "text"
      },
      "source": [
        "**Navigating to the dataset location in Google Drive**"
      ]
    },
    {
      "cell_type": "code",
      "metadata": {
        "id": "sIRbNVb8l2t-",
        "colab_type": "code",
        "outputId": "bcf8d3e3-e974-48c9-a341-a43d1ce1962c",
        "colab": {
          "base_uri": "https://localhost:8080/",
          "height": 34
        }
      },
      "source": [
        "cd /content/drive/Shared drives/TM Drive/Datasets/FinalFiles/data"
      ],
      "execution_count": 3,
      "outputs": [
        {
          "output_type": "stream",
          "text": [
            "/content/drive/Shared drives/TM Drive/Datasets/FinalFiles/data\n"
          ],
          "name": "stdout"
        }
      ]
    },
    {
      "cell_type": "code",
      "metadata": {
        "id": "BC1gzsFJa3TU",
        "colab_type": "code",
        "colab": {}
      },
      "source": [
        "import pandas as pd\n",
        "import numpy as np\n",
        "import json"
      ],
      "execution_count": 0,
      "outputs": []
    },
    {
      "cell_type": "markdown",
      "metadata": {
        "id": "mdvAkujPg_iI",
        "colab_type": "text"
      },
      "source": [
        "**Load dataset into pandas DataFrame, extract only 'reviewText' and 'overall' columns.**"
      ]
    },
    {
      "cell_type": "code",
      "metadata": {
        "id": "eu-gsCJYbpJA",
        "colab_type": "code",
        "colab": {}
      },
      "source": [
        "# df = pd.read_json('Electronics_5.json', lines=True)\n",
        "# df = df[['reviewText','overall']]\n",
        "# df['overall'].replace({1:0,2:0,3:1,4:2,5:2}, inplace=True)\n",
        "# df1 = df[df['overall']==0][:40000]\n",
        "# df2 = df[df['overall']==1][:40000]\n",
        "# df3 = df[df['overall']==2][:40000]\n",
        "# df = pd.concat([df1,df2,df3]);\n",
        "# df = df.sample(frac=1).reset_index(drop=True)\n",
        "# export_csv = df.to_csv (r'dataframe.csv', index = None, header=True)"
      ],
      "execution_count": 0,
      "outputs": []
    },
    {
      "cell_type": "code",
      "metadata": {
        "colab_type": "code",
        "id": "cRoO-mv9_oNU",
        "colab": {}
      },
      "source": [
        "df = pd.read_csv('dataframe3-20k.csv', dtype={\"reviewText\": str})\n",
        "texts = df.reviewText.astype(str)\n",
        "target = df.overall"
      ],
      "execution_count": 0,
      "outputs": []
    },
    {
      "cell_type": "markdown",
      "metadata": {
        "id": "udc6FPkSWNjq",
        "colab_type": "text"
      },
      "source": [
        "**Calculating the counts for the different output labels**"
      ]
    },
    {
      "cell_type": "code",
      "metadata": {
        "id": "fGJJNFnYJo2U",
        "colab_type": "code",
        "outputId": "e1724b35-d3f0-4850-f40b-03ba693da497",
        "colab": {
          "base_uri": "https://localhost:8080/",
          "height": 87
        }
      },
      "source": [
        "target.value_counts()"
      ],
      "execution_count": 7,
      "outputs": [
        {
          "output_type": "execute_result",
          "data": {
            "text/plain": [
              "2    40124\n",
              "0    39997\n",
              "1    39879\n",
              "Name: overall, dtype: int64"
            ]
          },
          "metadata": {
            "tags": []
          },
          "execution_count": 7
        }
      ]
    },
    {
      "cell_type": "code",
      "metadata": {
        "id": "rpdwcx6TL7gD",
        "colab_type": "code",
        "outputId": "6fab24ad-5612-4eea-d00e-80763716a705",
        "colab": {
          "base_uri": "https://localhost:8080/",
          "height": 123
        }
      },
      "source": [
        "texts.head()"
      ],
      "execution_count": 8,
      "outputs": [
        {
          "output_type": "execute_result",
          "data": {
            "text/plain": [
              "0    It is working fine and I like it. This one hav...\n",
              "1    I bought this a few years ago and works well f...\n",
              "2    I like that it lights up to show its working. ...\n",
              "3    Cheap speakers work for about a day and then b...\n",
              "4                 top end broke off after a few times.\n",
              "Name: reviewText, dtype: object"
            ]
          },
          "metadata": {
            "tags": []
          },
          "execution_count": 8
        }
      ]
    },
    {
      "cell_type": "code",
      "metadata": {
        "id": "xFkydTkJL9s4",
        "colab_type": "code",
        "outputId": "6ab9cdce-27ad-4aa8-d452-78919db87ce8",
        "colab": {
          "base_uri": "https://localhost:8080/",
          "height": 123
        }
      },
      "source": [
        "target.head()"
      ],
      "execution_count": 9,
      "outputs": [
        {
          "output_type": "execute_result",
          "data": {
            "text/plain": [
              "0    2\n",
              "1    2\n",
              "2    1\n",
              "3    0\n",
              "4    1\n",
              "Name: overall, dtype: int64"
            ]
          },
          "metadata": {
            "tags": []
          },
          "execution_count": 9
        }
      ]
    },
    {
      "cell_type": "markdown",
      "metadata": {
        "id": "N_yo1FzGrFLZ",
        "colab_type": "text"
      },
      "source": [
        "**Tokenizing the sentences, i.e. converting them into sequences of integers**"
      ]
    },
    {
      "cell_type": "code",
      "metadata": {
        "id": "rJbYLQFQMMkX",
        "colab_type": "code",
        "outputId": "50294983-8a3d-4727-f0db-034167a829b4",
        "colab": {
          "base_uri": "https://localhost:8080/",
          "height": 34
        }
      },
      "source": [
        "from keras.preprocessing.text import Tokenizer\n",
        "from keras.preprocessing.sequence import pad_sequences"
      ],
      "execution_count": 10,
      "outputs": [
        {
          "output_type": "stream",
          "text": [
            "Using TensorFlow backend.\n"
          ],
          "name": "stderr"
        }
      ]
    },
    {
      "cell_type": "code",
      "metadata": {
        "id": "BOeIdO5xMWyt",
        "colab_type": "code",
        "colab": {}
      },
      "source": [
        "vocab_size = 20000\n",
        "tokenizer = Tokenizer(num_words=vocab_size) # Setup tokenizer\n",
        "tokenizer.fit_on_texts(texts)\n",
        "sequences = tokenizer.texts_to_sequences(texts) # Generate sequences"
      ],
      "execution_count": 0,
      "outputs": []
    },
    {
      "cell_type": "code",
      "metadata": {
        "id": "pwYuY0QZMcN3",
        "colab_type": "code",
        "outputId": "77a3e6d8-44fc-4542-8c46-f50b91b889ae",
        "colab": {
          "base_uri": "https://localhost:8080/",
          "height": 34
        }
      },
      "source": [
        "word_index = tokenizer.word_index\n",
        "print('Found %s unique tokens.' % len(word_index))"
      ],
      "execution_count": 12,
      "outputs": [
        {
          "output_type": "stream",
          "text": [
            "Found 69869 unique tokens.\n"
          ],
          "name": "stdout"
        }
      ]
    },
    {
      "cell_type": "markdown",
      "metadata": {
        "id": "Z7JRydRRrdfO",
        "colab_type": "text"
      },
      "source": [
        "**After tokenizing the sentences, we use an inverse index to get the English sentences back from the sequences to check how they are different**"
      ]
    },
    {
      "cell_type": "code",
      "metadata": {
        "id": "6ryDj0tmMmm0",
        "colab_type": "code",
        "outputId": "ab61eb49-50dc-4e6e-a35d-9958e29ef6c3",
        "colab": {
          "base_uri": "https://localhost:8080/",
          "height": 34
        }
      },
      "source": [
        "inv_index = {v: k for k, v in tokenizer.word_index.items()}\n",
        "for w in sequences[1]:\n",
        "    x = inv_index.get(w)\n",
        "    print(x,end = ' ')"
      ],
      "execution_count": 13,
      "outputs": [
        {
          "output_type": "stream",
          "text": [
            "i bought this a few years ago and works well for the phone connection that my dvr's require i've had no problems with this unit "
          ],
          "name": "stdout"
        }
      ]
    },
    {
      "cell_type": "markdown",
      "metadata": {
        "id": "TASckzy9r-e_",
        "colab_type": "text"
      },
      "source": [
        "**After calculating the average length of the sequences, we decide to pad the sequences to a length of 150**"
      ]
    },
    {
      "cell_type": "code",
      "metadata": {
        "id": "ND6px-a2M1Al",
        "colab_type": "code",
        "outputId": "72266c1c-6f27-4b90-ff9c-7dc1976f71cc",
        "colab": {
          "base_uri": "https://localhost:8080/",
          "height": 34
        }
      },
      "source": [
        "# Get the average length of a text\n",
        "avg = sum( map(len, sequences) ) / len(sequences)\n",
        "# Get the standard deviation of the sequence length\n",
        "std = np.sqrt(sum( map(lambda x: (len(x) - avg)**2, sequences)) / len(sequences))\n",
        "avg,std"
      ],
      "execution_count": 14,
      "outputs": [
        {
          "output_type": "execute_result",
          "data": {
            "text/plain": [
              "(80.47126666666666, 114.9263207061969)"
            ]
          },
          "metadata": {
            "tags": []
          },
          "execution_count": 14
        }
      ]
    },
    {
      "cell_type": "code",
      "metadata": {
        "id": "pNEngLDJNy_y",
        "colab_type": "code",
        "colab": {}
      },
      "source": [
        "data = pad_sequences(sequences, maxlen=150)"
      ],
      "execution_count": 0,
      "outputs": []
    },
    {
      "cell_type": "markdown",
      "metadata": {
        "id": "XTtY3M_MsUPY",
        "colab_type": "text"
      },
      "source": [
        "**We convert the target variable to a categorical variable using `to_categorical`**"
      ]
    },
    {
      "cell_type": "code",
      "metadata": {
        "id": "ml419b9HN4yg",
        "colab_type": "code",
        "outputId": "8f22bf3e-4ffb-48af-e34c-3b61d6ee96ea",
        "colab": {
          "base_uri": "https://localhost:8080/",
          "height": 52
        }
      },
      "source": [
        "from keras.utils import to_categorical\n",
        "labels = to_categorical(np.asarray(target))\n",
        "print('Shape of data:', data.shape)\n",
        "print('Shape of labels:', labels.shape)"
      ],
      "execution_count": 16,
      "outputs": [
        {
          "output_type": "stream",
          "text": [
            "Shape of data: (120000, 150)\n",
            "Shape of labels: (120000, 3)\n"
          ],
          "name": "stdout"
        }
      ]
    },
    {
      "cell_type": "markdown",
      "metadata": {
        "id": "NAg9qFWLspR9",
        "colab_type": "text"
      },
      "source": [
        "**We create a dictionary of word -> embedding**"
      ]
    },
    {
      "cell_type": "code",
      "metadata": {
        "id": "NkiX6hP4OBaY",
        "colab_type": "code",
        "outputId": "fdb5bd4e-e4a6-4072-92f8-88c7d890bc00",
        "colab": {
          "base_uri": "https://localhost:8080/",
          "height": 34
        }
      },
      "source": [
        "embeddings_index = {}\n",
        "\n",
        "# f = open('word2vec.cut.txt', encoding='utf-8')\n",
        "f = open('glove.6B.300d.txt', encoding='utf-8')\n",
        "# In the dataset, each line represents a new word embedding\n",
        "# The line starts with the word and the embedding values follow\n",
        "for line in f:\n",
        "    values = line.split()\n",
        "    word = values[0] # The first value is the word, the rest are the values of the embedding\n",
        "    embedding = np.asarray(values[1:], dtype='float32') # Load embedding\n",
        "    embeddings_index[word] = embedding # Add embedding to our embedding dictionary\n",
        "f.close()\n",
        "\n",
        "print('Found %s word vectors.' % len(embeddings_index))"
      ],
      "execution_count": 17,
      "outputs": [
        {
          "output_type": "stream",
          "text": [
            "Found 400000 word vectors.\n"
          ],
          "name": "stdout"
        }
      ]
    },
    {
      "cell_type": "markdown",
      "metadata": {
        "id": "-DQmhKpstdfO",
        "colab_type": "text"
      },
      "source": [
        "**We create a embedding matrix with our words using the embedding dictionary we created earlier**"
      ]
    },
    {
      "cell_type": "code",
      "metadata": {
        "id": "h5v9QagbQOMM",
        "colab_type": "code",
        "outputId": "645bffa0-ec5e-4eb7-b81f-60f14fd711ea",
        "colab": {
          "base_uri": "https://localhost:8080/",
          "height": 90
        }
      },
      "source": [
        "all_embs = np.stack(embeddings_index.values())\n",
        "emb_mean = all_embs.mean() # Calculate mean\n",
        "emb_std = all_embs.std() # Calculate standard deviation\n",
        "emb_mean, emb_std"
      ],
      "execution_count": 18,
      "outputs": [
        {
          "output_type": "stream",
          "text": [
            "/usr/local/lib/python3.6/dist-packages/IPython/core/interactiveshell.py:2822: FutureWarning: arrays to stack must be passed as a \"sequence\" type such as list or tuple. Support for non-sequence iterables such as generators is deprecated as of NumPy 1.16 and will raise an error in the future.\n",
            "  if self.run_code(code, result):\n"
          ],
          "name": "stderr"
        },
        {
          "output_type": "execute_result",
          "data": {
            "text/plain": [
              "(-0.0039050116, 0.38177028)"
            ]
          },
          "metadata": {
            "tags": []
          },
          "execution_count": 18
        }
      ]
    },
    {
      "cell_type": "code",
      "metadata": {
        "id": "vmSJtjwZQdY7",
        "colab_type": "code",
        "colab": {}
      },
      "source": [
        "embedding_dim = 300"
      ],
      "execution_count": 0,
      "outputs": []
    },
    {
      "cell_type": "code",
      "metadata": {
        "id": "vk6gtrteRIld",
        "colab_type": "code",
        "colab": {}
      },
      "source": [
        "word_index = tokenizer.word_index\n",
        "nb_words = min(vocab_size, len(word_index)) \n",
        "embedding_matrix = np.random.normal(emb_mean, emb_std, (nb_words, embedding_dim))\n",
        "\n",
        "for word, i in word_index.items():\n",
        "    if i >= vocab_size: \n",
        "        continue\n",
        "    embedding_vector = embeddings_index.get(word)\n",
        "    if embedding_vector is not None: \n",
        "        embedding_matrix[i] = embedding_vector"
      ],
      "execution_count": 0,
      "outputs": []
    },
    {
      "cell_type": "code",
      "metadata": {
        "id": "Z6iahNFuRbEz",
        "colab_type": "code",
        "colab": {}
      },
      "source": [
        "from keras.models import Sequential\n",
        "from keras.layers import LSTM, Dense, Activation, Embedding, Bidirectional, GRU, Conv1D, MaxPooling1D, Flatten\n",
        "\n",
        "from sklearn.model_selection import train_test_split\n",
        "from sklearn.metrics import classification_report, confusion_matrix"
      ],
      "execution_count": 0,
      "outputs": []
    },
    {
      "cell_type": "markdown",
      "metadata": {
        "id": "UHFmT4cgt45u",
        "colab_type": "text"
      },
      "source": [
        "**Using early stopping function to calculate the number of epochs**"
      ]
    },
    {
      "cell_type": "code",
      "metadata": {
        "id": "8hRqNLazEZII",
        "colab_type": "code",
        "colab": {}
      },
      "source": [
        "from keras.callbacks import EarlyStopping\n",
        "early_stopping = EarlyStopping(min_delta = 0.001, mode = 'max', monitor='val_categorical_accuracy', patience = 2)\n",
        "callback = [early_stopping]"
      ],
      "execution_count": 0,
      "outputs": []
    },
    {
      "cell_type": "code",
      "metadata": {
        "id": "741lFdUBG4r0",
        "colab_type": "code",
        "colab": {}
      },
      "source": [
        "import warnings\n",
        "warnings.simplefilter('ignore')"
      ],
      "execution_count": 0,
      "outputs": []
    },
    {
      "cell_type": "markdown",
      "metadata": {
        "id": "lERIqX4ZuF36",
        "colab_type": "text"
      },
      "source": [
        "**Function to create a plot of the confusion matrix**"
      ]
    },
    {
      "cell_type": "code",
      "metadata": {
        "id": "-uPFbhrqyKHu",
        "colab_type": "code",
        "colab": {}
      },
      "source": [
        "import matplotlib.pyplot as plt\n",
        "\n",
        "def plot_confusion_matrix(y_true, y_pred,\n",
        "                          title=None,\n",
        "                          cmap=plt.cm.Blues):\n",
        "    # Compute confusion matrix\n",
        "    cm = confusion_matrix(y_true, y_pred)\n",
        "    # Only use the labels that appear in the data\n",
        "    classes = ['negative','neutral','positive']\n",
        "\n",
        "    fig, ax = plt.subplots()\n",
        "    im = ax.imshow(cm, interpolation='nearest', cmap=cmap)\n",
        "    # We want to show all ticks...\n",
        "    ax.set(xticks=np.arange(3),\n",
        "           yticks=np.arange(3),\n",
        "           xticklabels=classes, yticklabels=classes,\n",
        "           title=title,\n",
        "           ylabel='True label',\n",
        "           xlabel='Predicted label')\n",
        "    \n",
        "    thresh = cm.max() / 2.\n",
        "    for i in range(cm.shape[0]):\n",
        "        for j in range(cm.shape[1]):\n",
        "            ax.text(j, i, format(cm[i, j], 'd'),\n",
        "                    ha=\"center\", va=\"center\",\n",
        "                    color=\"white\" if cm[i, j] > thresh else \"black\")\n",
        "    bottom, top = ax.get_ylim()\n",
        "    ax.set_ylim(bottom + 0.5, top - 0.5)\n",
        "    return ax"
      ],
      "execution_count": 0,
      "outputs": []
    },
    {
      "cell_type": "markdown",
      "metadata": {
        "id": "FL-awoa0uN-w",
        "colab_type": "text"
      },
      "source": [
        "**Splitting the data and labels into the training and testing data**"
      ]
    },
    {
      "cell_type": "code",
      "metadata": {
        "id": "YoAsHDggr_uZ",
        "colab_type": "code",
        "colab": {}
      },
      "source": [
        "X_train, X_test, Y_train, Y_test = train_test_split(data, labels, test_size=0.25, random_state=100)"
      ],
      "execution_count": 0,
      "outputs": []
    },
    {
      "cell_type": "markdown",
      "metadata": {
        "id": "NFc9HBcVvP05",
        "colab_type": "text"
      },
      "source": [
        "**Creating the GRU Model, training it on the training data and getting the predictions for the test data**"
      ]
    },
    {
      "cell_type": "code",
      "metadata": {
        "id": "aWRTuOTBRgWB",
        "colab_type": "code",
        "outputId": "2113f40c-cea2-4aeb-e105-bbf24dea9f3e",
        "colab": {
          "base_uri": "https://localhost:8080/",
          "height": 1000
        }
      },
      "source": [
        "model = Sequential()\n",
        "model.add(Embedding(vocab_size, \n",
        "                    embedding_dim, \n",
        "                    input_length=150, \n",
        "                    weights = [embedding_matrix], \n",
        "                    trainable = False))\n",
        "model.add(Conv1D(filters = 128,\n",
        "                 kernel_size = 5,\n",
        "                 padding='valid',\n",
        "                 activation='relu',\n",
        "                 strides=1))\n",
        "model.add(GRU(128, recurrent_dropout=0.1))\n",
        "# model.add(Bidirectional(GRU(128, recurrent_dropout=0.1)))\n",
        "model.add(Dense(3, activation='softmax'))\n",
        "model.summary()\n",
        "\n",
        "model.compile(optimizer='adam',\n",
        "              loss='categorical_crossentropy',\n",
        "              metrics=['categorical_accuracy'])\n",
        "history = model.fit(X_train,Y_train,epochs=10,callbacks=callback, validation_data = [X_test, Y_test]);\n",
        "\n",
        "Y_pred = model.predict(X_test, verbose=1)"
      ],
      "execution_count": 26,
      "outputs": [
        {
          "output_type": "stream",
          "text": [
            "WARNING:tensorflow:From /usr/local/lib/python3.6/dist-packages/keras/backend/tensorflow_backend.py:66: The name tf.get_default_graph is deprecated. Please use tf.compat.v1.get_default_graph instead.\n",
            "\n",
            "WARNING:tensorflow:From /usr/local/lib/python3.6/dist-packages/keras/backend/tensorflow_backend.py:541: The name tf.placeholder is deprecated. Please use tf.compat.v1.placeholder instead.\n",
            "\n",
            "WARNING:tensorflow:From /usr/local/lib/python3.6/dist-packages/keras/backend/tensorflow_backend.py:4432: The name tf.random_uniform is deprecated. Please use tf.random.uniform instead.\n",
            "\n",
            "WARNING:tensorflow:From /usr/local/lib/python3.6/dist-packages/keras/backend/tensorflow_backend.py:190: The name tf.get_default_session is deprecated. Please use tf.compat.v1.get_default_session instead.\n",
            "\n",
            "WARNING:tensorflow:From /usr/local/lib/python3.6/dist-packages/keras/backend/tensorflow_backend.py:197: The name tf.ConfigProto is deprecated. Please use tf.compat.v1.ConfigProto instead.\n",
            "\n",
            "WARNING:tensorflow:From /usr/local/lib/python3.6/dist-packages/keras/backend/tensorflow_backend.py:203: The name tf.Session is deprecated. Please use tf.compat.v1.Session instead.\n",
            "\n",
            "WARNING:tensorflow:From /usr/local/lib/python3.6/dist-packages/keras/backend/tensorflow_backend.py:207: The name tf.global_variables is deprecated. Please use tf.compat.v1.global_variables instead.\n",
            "\n",
            "WARNING:tensorflow:From /usr/local/lib/python3.6/dist-packages/keras/backend/tensorflow_backend.py:216: The name tf.is_variable_initialized is deprecated. Please use tf.compat.v1.is_variable_initialized instead.\n",
            "\n",
            "WARNING:tensorflow:From /usr/local/lib/python3.6/dist-packages/keras/backend/tensorflow_backend.py:223: The name tf.variables_initializer is deprecated. Please use tf.compat.v1.variables_initializer instead.\n",
            "\n",
            "WARNING:tensorflow:From /usr/local/lib/python3.6/dist-packages/keras/backend/tensorflow_backend.py:148: The name tf.placeholder_with_default is deprecated. Please use tf.compat.v1.placeholder_with_default instead.\n",
            "\n",
            "WARNING:tensorflow:From /usr/local/lib/python3.6/dist-packages/keras/backend/tensorflow_backend.py:3733: calling dropout (from tensorflow.python.ops.nn_ops) with keep_prob is deprecated and will be removed in a future version.\n",
            "Instructions for updating:\n",
            "Please use `rate` instead of `keep_prob`. Rate should be set to `rate = 1 - keep_prob`.\n",
            "Model: \"sequential_1\"\n",
            "_________________________________________________________________\n",
            "Layer (type)                 Output Shape              Param #   \n",
            "=================================================================\n",
            "embedding_1 (Embedding)      (None, 150, 300)          6000000   \n",
            "_________________________________________________________________\n",
            "conv1d_1 (Conv1D)            (None, 146, 128)          192128    \n",
            "_________________________________________________________________\n",
            "gru_1 (GRU)                  (None, 128)               98688     \n",
            "_________________________________________________________________\n",
            "dense_1 (Dense)              (None, 3)                 387       \n",
            "=================================================================\n",
            "Total params: 6,291,203\n",
            "Trainable params: 291,203\n",
            "Non-trainable params: 6,000,000\n",
            "_________________________________________________________________\n",
            "WARNING:tensorflow:From /usr/local/lib/python3.6/dist-packages/keras/optimizers.py:793: The name tf.train.Optimizer is deprecated. Please use tf.compat.v1.train.Optimizer instead.\n",
            "\n",
            "WARNING:tensorflow:From /usr/local/lib/python3.6/dist-packages/keras/backend/tensorflow_backend.py:3576: The name tf.log is deprecated. Please use tf.math.log instead.\n",
            "\n",
            "WARNING:tensorflow:From /tensorflow-1.15.2/python3.6/tensorflow_core/python/ops/math_grad.py:1424: where (from tensorflow.python.ops.array_ops) is deprecated and will be removed in a future version.\n",
            "Instructions for updating:\n",
            "Use tf.where in 2.0, which has the same broadcast rule as np.where\n",
            "WARNING:tensorflow:From /usr/local/lib/python3.6/dist-packages/keras/backend/tensorflow_backend.py:1033: The name tf.assign_add is deprecated. Please use tf.compat.v1.assign_add instead.\n",
            "\n",
            "WARNING:tensorflow:From /usr/local/lib/python3.6/dist-packages/keras/backend/tensorflow_backend.py:1020: The name tf.assign is deprecated. Please use tf.compat.v1.assign instead.\n",
            "\n",
            "Train on 90000 samples, validate on 30000 samples\n",
            "Epoch 1/10\n",
            "90000/90000 [==============================] - 771s 9ms/step - loss: 0.7454 - categorical_accuracy: 0.6536 - val_loss: 0.6497 - val_categorical_accuracy: 0.7109\n",
            "Epoch 2/10\n",
            "90000/90000 [==============================] - 766s 9ms/step - loss: 0.5980 - categorical_accuracy: 0.7371 - val_loss: 0.6062 - val_categorical_accuracy: 0.7357\n",
            "Epoch 3/10\n",
            "90000/90000 [==============================] - 767s 9ms/step - loss: 0.5106 - categorical_accuracy: 0.7849 - val_loss: 0.5959 - val_categorical_accuracy: 0.7462\n",
            "Epoch 4/10\n",
            "90000/90000 [==============================] - 770s 9ms/step - loss: 0.4245 - categorical_accuracy: 0.8263 - val_loss: 0.6082 - val_categorical_accuracy: 0.7517\n",
            "Epoch 5/10\n",
            "90000/90000 [==============================] - 773s 9ms/step - loss: 0.3481 - categorical_accuracy: 0.8595 - val_loss: 0.6516 - val_categorical_accuracy: 0.7583\n",
            "Epoch 6/10\n",
            "90000/90000 [==============================] - 773s 9ms/step - loss: 0.2829 - categorical_accuracy: 0.8884 - val_loss: 0.7029 - val_categorical_accuracy: 0.7613\n",
            "Epoch 7/10\n",
            "90000/90000 [==============================] - 778s 9ms/step - loss: 0.2364 - categorical_accuracy: 0.9082 - val_loss: 0.7932 - val_categorical_accuracy: 0.7636\n",
            "Epoch 8/10\n",
            "90000/90000 [==============================] - 783s 9ms/step - loss: 0.2027 - categorical_accuracy: 0.9215 - val_loss: 0.8414 - val_categorical_accuracy: 0.7596\n",
            "Epoch 9/10\n",
            "90000/90000 [==============================] - 791s 9ms/step - loss: 0.1813 - categorical_accuracy: 0.9301 - val_loss: 0.8875 - val_categorical_accuracy: 0.7611\n",
            "30000/30000 [==============================] - 66s 2ms/step\n"
          ],
          "name": "stdout"
        }
      ]
    },
    {
      "cell_type": "markdown",
      "metadata": {
        "id": "0rigOegwvhio",
        "colab_type": "text"
      },
      "source": [
        "**Creating the plots for the confusion matrix, accuracy and loss function**"
      ]
    },
    {
      "cell_type": "code",
      "metadata": {
        "id": "vUe79c29-txA",
        "colab_type": "code",
        "outputId": "612795c9-475a-46a7-e3a3-5aebd2d66d66",
        "colab": {
          "base_uri": "https://localhost:8080/",
          "height": 1000
        }
      },
      "source": [
        "print(classification_report(Y_test.argmax(axis=1), Y_pred.argmax(axis=1)))\n",
        "\n",
        "plot_confusion_matrix(Y_test.argmax(axis=1),Y_pred.argmax(axis=1))\n",
        "plt.show()\n",
        "\n",
        "plt.plot(history.history['categorical_accuracy'])\n",
        "plt.plot(history.history['val_categorical_accuracy'])\n",
        "plt.title('model accuracy')\n",
        "plt.ylabel('accuracy')\n",
        "plt.xlabel('epoch')\n",
        "plt.legend(['train', 'val'], loc='upper left')\n",
        "plt.show()\n",
        "\n",
        "plt.plot(history.history['loss'])\n",
        "plt.plot(history.history['val_loss'])\n",
        "plt.title('model loss')\n",
        "plt.ylabel('loss')\n",
        "plt.xlabel('epoch')\n",
        "plt.legend(['train', 'val'], loc='upper left')\n",
        "plt.show()"
      ],
      "execution_count": 27,
      "outputs": [
        {
          "output_type": "stream",
          "text": [
            "              precision    recall  f1-score   support\n",
            "\n",
            "           0       0.76      0.80      0.78     10067\n",
            "           1       0.69      0.64      0.66      9903\n",
            "           2       0.83      0.85      0.84     10030\n",
            "\n",
            "    accuracy                           0.76     30000\n",
            "   macro avg       0.76      0.76      0.76     30000\n",
            "weighted avg       0.76      0.76      0.76     30000\n",
            "\n"
          ],
          "name": "stdout"
        },
        {
          "output_type": "display_data",
          "data": {
            "image/png": "[encoded data removed]",
            "text/plain": [
              "<Figure size 432x288 with 1 Axes>"
            ]
          },
          "metadata": {
            "tags": []
          }
        },
        {
          "output_type": "display_data",
          "data": {
            "image/png": "[encoded data removed]",
            "text/plain": [
              "<Figure size 432x288 with 1 Axes>"
            ]
          },
          "metadata": {
            "tags": []
          }
        },
        {
          "output_type": "display_data",
          "data": {
            "image/png": "[encoded data removed]",
            "text/plain": [
              "<Figure size 432x288 with 1 Axes>"
            ]
          },
          "metadata": {
            "tags": []
          }
        }
      ]
    },
    {
      "cell_type": "code",
      "metadata": {
        "id": "082qXIRw_3GI",
        "colab_type": "code",
        "outputId": "2fc32db0-5b1b-4b03-de8b-d258cb075f52",
        "colab": {
          "base_uri": "https://localhost:8080/",
          "height": 34
        }
      },
      "source": [
        "check = ['I was not fully satisfied with this!']\n",
        "data_check = pad_sequences(tokenizer.texts_to_sequences(check), maxlen = 150)\n",
        "out = model.predict(data_check).argmax(axis=1)[0]\n",
        "sentiment = \"negative\" if out == 0 else \"positive\" if out == 2 else \"neutral\" \n",
        "print(check, \"->\" , sentiment)"
      ],
      "execution_count": 28,
      "outputs": [
        {
          "output_type": "stream",
          "text": [
            "['I was not fully satisfied with this!'] -> positive\n"
          ],
          "name": "stdout"
        }
      ]
    },
    {
      "cell_type": "code",
      "metadata": {
        "id": "OoZlBk8x_-c9",
        "colab_type": "code",
        "outputId": "ee1b2953-c87d-47e8-98de-c5462acbcc06",
        "colab": {
          "base_uri": "https://localhost:8080/",
          "height": 132
        }
      },
      "source": [
        "Thank you!"
      ],
      "execution_count": 28,
      "outputs": [
        {
          "output_type": "error",
          "ename": "SyntaxError",
          "evalue": "ignored",
          "traceback": [
            "\u001b[0;36m  File \u001b[0;32m\"<ipython-input-29-862240c8a44d>\"\u001b[0;36m, line \u001b[0;32m1\u001b[0m\n\u001b[0;31m    Thank you!\u001b[0m\n\u001b[0m            ^\u001b[0m\n\u001b[0;31mSyntaxError\u001b[0m\u001b[0;31m:\u001b[0m invalid syntax\n"
          ]
        }
      ]
    }
  ]
}