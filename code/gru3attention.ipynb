{
  "nbformat": 4,
  "nbformat_minor": 0,
  "metadata": {
    "colab": {
      "name": "gru3attention.ipynb",
      "provenance": [],
      "collapsed_sections": []
    },
    "kernelspec": {
      "name": "python3",
      "display_name": "Python 3"
    }
  },
  "cells": [
    {
      "cell_type": "code",
      "metadata": {
        "id": "KxpgCnADIdOk",
        "colab_type": "code",
        "colab": {}
      },
      "source": [
        "%tensorflow_version 1.x\n",
        "\n",
        "import os\n",
        "os.environ['TF_CPP_MIN_LOG_LEVEL'] = '1' \n",
        "import tensorflow as tf"
      ],
      "execution_count": 0,
      "outputs": []
    },
    {
      "cell_type": "code",
      "metadata": {
        "id": "73z-l64Ywomq",
        "colab_type": "code",
        "outputId": "2165628e-1826-4c1b-9786-93a0d94524b9",
        "colab": {
          "base_uri": "https://localhost:8080/",
          "height": 34
        }
      },
      "source": [
        "from google.colab import drive\n",
        "drive.mount('/content/drive', force_remount=True)"
      ],
      "execution_count": 0,
      "outputs": [
        {
          "output_type": "stream",
          "text": [
            "Mounted at /content/drive\n"
          ],
          "name": "stdout"
        }
      ]
    },
    {
      "cell_type": "markdown",
      "metadata": {
        "id": "bOeoWqczg2HZ",
        "colab_type": "text"
      },
      "source": [
        "**Navigating to the dataset location in Google Drive**"
      ]
    },
    {
      "cell_type": "code",
      "metadata": {
        "id": "sIRbNVb8l2t-",
        "colab_type": "code",
        "outputId": "df236b40-ab4c-4c8d-867f-5d4f18145a21",
        "colab": {
          "base_uri": "https://localhost:8080/",
          "height": 34
        }
      },
      "source": [
        "cd drive/My Drive/Colab Notebooks/data"
      ],
      "execution_count": 0,
      "outputs": [
        {
          "output_type": "stream",
          "text": [
            "/content/drive/My Drive/Colab Notebooks/data\n"
          ],
          "name": "stdout"
        }
      ]
    },
    {
      "cell_type": "code",
      "metadata": {
        "id": "BC1gzsFJa3TU",
        "colab_type": "code",
        "colab": {}
      },
      "source": [
        "import pandas as pd\n",
        "import numpy as np\n",
        "import json"
      ],
      "execution_count": 0,
      "outputs": []
    },
    {
      "cell_type": "markdown",
      "metadata": {
        "id": "mdvAkujPg_iI",
        "colab_type": "text"
      },
      "source": [
        "**Load dataset into pandas DataFrame, extract only 'reviewText' and 'overall' columns.**"
      ]
    },
    {
      "cell_type": "code",
      "metadata": {
        "id": "eu-gsCJYbpJA",
        "colab_type": "code",
        "colab": {}
      },
      "source": [
        "# df = pd.read_json('Electronics_5.json', lines=True)\n",
        "# df = df[['reviewText','overall']]\n",
        "# df['overall'].replace({1:0,2:0,3:1,4:2,5:2}, inplace=True)\n",
        "# df1 = df[df['overall']==0][:40000]\n",
        "# df2 = df[df['overall']==1][:40000]\n",
        "# df3 = df[df['overall']==2][:40000]\n",
        "# df = pd.concat([df1,df2,df3]);\n",
        "# df = df.sample(frac=1).reset_index(drop=True)\n",
        "# export_csv = df.to_csv (r'dataframe.csv', index = None, header=True)"
      ],
      "execution_count": 0,
      "outputs": []
    },
    {
      "cell_type": "code",
      "metadata": {
        "colab_type": "code",
        "id": "cRoO-mv9_oNU",
        "colab": {}
      },
      "source": [
        "df = pd.read_csv('dataframe3.csv', dtype={\"reviewText\": str})\n",
        "texts = df.reviewText.astype(str)\n",
        "target = df.overall"
      ],
      "execution_count": 0,
      "outputs": []
    },
    {
      "cell_type": "markdown",
      "metadata": {
        "id": "udc6FPkSWNjq",
        "colab_type": "text"
      },
      "source": [
        "**Calculating the counts for the different output labels**"
      ]
    },
    {
      "cell_type": "code",
      "metadata": {
        "id": "fGJJNFnYJo2U",
        "colab_type": "code",
        "outputId": "d5749025-4981-4f3b-b956-ec4f09763f14",
        "colab": {
          "base_uri": "https://localhost:8080/",
          "height": 85
        }
      },
      "source": [
        "target.value_counts()"
      ],
      "execution_count": 0,
      "outputs": [
        {
          "output_type": "execute_result",
          "data": {
            "text/plain": [
              "0    40000\n",
              "2    40000\n",
              "1    40000\n",
              "Name: overall, dtype: int64"
            ]
          },
          "metadata": {
            "tags": []
          },
          "execution_count": 7
        }
      ]
    },
    {
      "cell_type": "code",
      "metadata": {
        "id": "rpdwcx6TL7gD",
        "colab_type": "code",
        "outputId": "8e7cdb4b-0641-4880-aa86-a3f7353ba57b",
        "colab": {
          "base_uri": "https://localhost:8080/",
          "height": 119
        }
      },
      "source": [
        "texts.head()"
      ],
      "execution_count": 0,
      "outputs": [
        {
          "output_type": "execute_result",
          "data": {
            "text/plain": [
              "0    If any Nikon owner does not own this lens, the...\n",
              "1    I like em for the price and super saver shippi...\n",
              "2    I've had this audio card for 3 years and I've ...\n",
              "3    This does what it is made for; it is nice and ...\n",
              "4    I've gone through at least 5 replacement adapt...\n",
              "Name: reviewText, dtype: object"
            ]
          },
          "metadata": {
            "tags": []
          },
          "execution_count": 8
        }
      ]
    },
    {
      "cell_type": "code",
      "metadata": {
        "id": "xFkydTkJL9s4",
        "colab_type": "code",
        "outputId": "294d9c95-dbf4-4a4f-b19a-cf0bb5a363a5",
        "colab": {
          "base_uri": "https://localhost:8080/",
          "height": 119
        }
      },
      "source": [
        "target.head()"
      ],
      "execution_count": 0,
      "outputs": [
        {
          "output_type": "execute_result",
          "data": {
            "text/plain": [
              "0    2\n",
              "1    1\n",
              "2    2\n",
              "3    1\n",
              "4    0\n",
              "Name: overall, dtype: int64"
            ]
          },
          "metadata": {
            "tags": []
          },
          "execution_count": 9
        }
      ]
    },
    {
      "cell_type": "markdown",
      "metadata": {
        "id": "N_yo1FzGrFLZ",
        "colab_type": "text"
      },
      "source": [
        "**Tokenizing the sentences, i.e. converting them into sequences of integers**"
      ]
    },
    {
      "cell_type": "code",
      "metadata": {
        "id": "rJbYLQFQMMkX",
        "colab_type": "code",
        "outputId": "57a43128-1b3d-4588-ce42-531e6a32dede",
        "colab": {
          "base_uri": "https://localhost:8080/",
          "height": 34
        }
      },
      "source": [
        "from keras.preprocessing.text import Tokenizer\n",
        "from keras.preprocessing.sequence import pad_sequences"
      ],
      "execution_count": 0,
      "outputs": [
        {
          "output_type": "stream",
          "text": [
            "Using TensorFlow backend.\n"
          ],
          "name": "stderr"
        }
      ]
    },
    {
      "cell_type": "code",
      "metadata": {
        "id": "BOeIdO5xMWyt",
        "colab_type": "code",
        "colab": {}
      },
      "source": [
        "vocab_size = 20000\n",
        "tokenizer = Tokenizer(num_words=vocab_size) # Setup tokenizer\n",
        "tokenizer.fit_on_texts(texts)\n",
        "sequences = tokenizer.texts_to_sequences(texts) # Generate sequences"
      ],
      "execution_count": 0,
      "outputs": []
    },
    {
      "cell_type": "code",
      "metadata": {
        "id": "pwYuY0QZMcN3",
        "colab_type": "code",
        "outputId": "e16b8bca-292e-41a5-c3af-feeaa9a75839",
        "colab": {
          "base_uri": "https://localhost:8080/",
          "height": 34
        }
      },
      "source": [
        "word_index = tokenizer.word_index\n",
        "print('Found %s unique tokens.' % len(word_index))"
      ],
      "execution_count": 0,
      "outputs": [
        {
          "output_type": "stream",
          "text": [
            "Found 99081 unique tokens.\n"
          ],
          "name": "stdout"
        }
      ]
    },
    {
      "cell_type": "markdown",
      "metadata": {
        "id": "Z7JRydRRrdfO",
        "colab_type": "text"
      },
      "source": [
        "**After tokenizing the sentences, we use an inverse index to get the English sentences back from the sequences to check how they are different**"
      ]
    },
    {
      "cell_type": "code",
      "metadata": {
        "id": "6ryDj0tmMmm0",
        "colab_type": "code",
        "outputId": "a4485b21-3ae7-4320-ca0e-beefac857add",
        "colab": {
          "base_uri": "https://localhost:8080/",
          "height": 54
        }
      },
      "source": [
        "inv_index = {v: k for k, v in tokenizer.word_index.items()}\n",
        "for w in sequences[1]:\n",
        "    x = inv_index.get(w)\n",
        "    print(x,end = ' ')"
      ],
      "execution_count": 0,
      "outputs": [
        {
          "output_type": "stream",
          "text": [
            "i like em for the price and super saver shipping seem to be comfortable and the mini jack doesn't distort the music like some do they kind of suck and i got them at a really good price so tried them but now i found jvc and they amazing put these to shame "
          ],
          "name": "stdout"
        }
      ]
    },
    {
      "cell_type": "markdown",
      "metadata": {
        "id": "TASckzy9r-e_",
        "colab_type": "text"
      },
      "source": [
        "**After calculating the average length of the sequences, we decide to pad the sequences to a length of 150**"
      ]
    },
    {
      "cell_type": "code",
      "metadata": {
        "id": "ND6px-a2M1Al",
        "colab_type": "code",
        "outputId": "9d7bbba3-39fd-4998-d57b-3cc206e39fe7",
        "colab": {
          "base_uri": "https://localhost:8080/",
          "height": 34
        }
      },
      "source": [
        "# Get the average length of a text\n",
        "avg = sum( map(len, sequences) ) / len(sequences)\n",
        "# Get the standard deviation of the sequence length\n",
        "std = np.sqrt(sum( map(lambda x: (len(x) - avg)**2, sequences)) / len(sequences))\n",
        "avg,std"
      ],
      "execution_count": 0,
      "outputs": [
        {
          "output_type": "execute_result",
          "data": {
            "text/plain": [
              "(121.2133, 139.8945416606484)"
            ]
          },
          "metadata": {
            "tags": []
          },
          "execution_count": 14
        }
      ]
    },
    {
      "cell_type": "code",
      "metadata": {
        "id": "pNEngLDJNy_y",
        "colab_type": "code",
        "colab": {}
      },
      "source": [
        "data = pad_sequences(sequences, maxlen=150)"
      ],
      "execution_count": 0,
      "outputs": []
    },
    {
      "cell_type": "code",
      "metadata": {
        "id": "Pnc-5AYRJV-G",
        "colab_type": "code",
        "outputId": "db824fab-6541-49f1-b8a1-fa5aa148e64a",
        "colab": {
          "base_uri": "https://localhost:8080/",
          "height": 170
        }
      },
      "source": [
        "!pip install keras-self-attention"
      ],
      "execution_count": 0,
      "outputs": [
        {
          "output_type": "stream",
          "text": [
            "Requirement already satisfied: keras-self-attention in /usr/local/lib/python3.6/dist-packages (0.42.0)\n",
            "Requirement already satisfied: numpy in /usr/local/lib/python3.6/dist-packages (from keras-self-attention) (1.17.5)\n",
            "Requirement already satisfied: Keras in /usr/local/lib/python3.6/dist-packages (from keras-self-attention) (2.2.5)\n",
            "Requirement already satisfied: six>=1.9.0 in /usr/local/lib/python3.6/dist-packages (from Keras->keras-self-attention) (1.12.0)\n",
            "Requirement already satisfied: scipy>=0.14 in /usr/local/lib/python3.6/dist-packages (from Keras->keras-self-attention) (1.4.1)\n",
            "Requirement already satisfied: keras-preprocessing>=1.1.0 in /usr/local/lib/python3.6/dist-packages (from Keras->keras-self-attention) (1.1.0)\n",
            "Requirement already satisfied: pyyaml in /usr/local/lib/python3.6/dist-packages (from Keras->keras-self-attention) (3.13)\n",
            "Requirement already satisfied: keras-applications>=1.0.8 in /usr/local/lib/python3.6/dist-packages (from Keras->keras-self-attention) (1.0.8)\n",
            "Requirement already satisfied: h5py in /usr/local/lib/python3.6/dist-packages (from Keras->keras-self-attention) (2.8.0)\n"
          ],
          "name": "stdout"
        }
      ]
    },
    {
      "cell_type": "markdown",
      "metadata": {
        "id": "XTtY3M_MsUPY",
        "colab_type": "text"
      },
      "source": [
        "**We convert the target variable to a categorical variable using `to_categorical`**"
      ]
    },
    {
      "cell_type": "code",
      "metadata": {
        "id": "ml419b9HN4yg",
        "colab_type": "code",
        "outputId": "a3335c8f-ce6d-4180-84bb-aa6e095f151e",
        "colab": {
          "base_uri": "https://localhost:8080/",
          "height": 51
        }
      },
      "source": [
        "from keras.utils import to_categorical\n",
        "labels = to_categorical(np.asarray(target))\n",
        "print('Shape of data:', data.shape)\n",
        "print('Shape of labels:', labels.shape)"
      ],
      "execution_count": 0,
      "outputs": [
        {
          "output_type": "stream",
          "text": [
            "Shape of data: (120000, 150)\n",
            "Shape of labels: (120000, 3)\n"
          ],
          "name": "stdout"
        }
      ]
    },
    {
      "cell_type": "markdown",
      "metadata": {
        "id": "NAg9qFWLspR9",
        "colab_type": "text"
      },
      "source": [
        "**We create a dictionary of word -> embedding**"
      ]
    },
    {
      "cell_type": "code",
      "metadata": {
        "id": "NkiX6hP4OBaY",
        "colab_type": "code",
        "outputId": "d48cc581-a1cc-4b9e-8182-0ebe7b26e23f",
        "colab": {
          "base_uri": "https://localhost:8080/",
          "height": 34
        }
      },
      "source": [
        "embeddings_index = {}\n",
        "\n",
        "# f = open('word2vec.cut.txt', encoding='utf-8')\n",
        "f = open('glove.6B.300d.txt', encoding='utf-8')\n",
        "# In the dataset, each line represents a new word embedding\n",
        "# The line starts with the word and the embedding values follow\n",
        "for line in f:\n",
        "    values = line.split()\n",
        "    word = values[0] # The first value is the word, the rest are the values of the embedding\n",
        "    embedding = np.asarray(values[1:], dtype='float32') # Load embedding\n",
        "    embeddings_index[word] = embedding # Add embedding to our embedding dictionary\n",
        "f.close()\n",
        "\n",
        "print('Found %s word vectors.' % len(embeddings_index))"
      ],
      "execution_count": 0,
      "outputs": [
        {
          "output_type": "stream",
          "text": [
            "Found 400000 word vectors.\n"
          ],
          "name": "stdout"
        }
      ]
    },
    {
      "cell_type": "markdown",
      "metadata": {
        "id": "-DQmhKpstdfO",
        "colab_type": "text"
      },
      "source": [
        "**We create a embedding matrix with our words using the embedding dictionary we created earlier**"
      ]
    },
    {
      "cell_type": "code",
      "metadata": {
        "id": "h5v9QagbQOMM",
        "colab_type": "code",
        "outputId": "b9dab49c-3bb6-4c4b-8b7a-324893b618b3",
        "colab": {
          "base_uri": "https://localhost:8080/",
          "height": 88
        }
      },
      "source": [
        "all_embs = np.stack(embeddings_index.values())\n",
        "emb_mean = all_embs.mean() # Calculate mean\n",
        "emb_std = all_embs.std() # Calculate standard deviation\n",
        "emb_mean, emb_std"
      ],
      "execution_count": 0,
      "outputs": [
        {
          "output_type": "stream",
          "text": [
            "/usr/local/lib/python3.6/dist-packages/IPython/core/interactiveshell.py:2822: FutureWarning: arrays to stack must be passed as a \"sequence\" type such as list or tuple. Support for non-sequence iterables such as generators is deprecated as of NumPy 1.16 and will raise an error in the future.\n",
            "  if self.run_code(code, result):\n"
          ],
          "name": "stderr"
        },
        {
          "output_type": "execute_result",
          "data": {
            "text/plain": [
              "(-0.0039050116, 0.38177028)"
            ]
          },
          "metadata": {
            "tags": []
          },
          "execution_count": 19
        }
      ]
    },
    {
      "cell_type": "code",
      "metadata": {
        "id": "vmSJtjwZQdY7",
        "colab_type": "code",
        "colab": {}
      },
      "source": [
        "embedding_dim = 300"
      ],
      "execution_count": 0,
      "outputs": []
    },
    {
      "cell_type": "code",
      "metadata": {
        "id": "vk6gtrteRIld",
        "colab_type": "code",
        "colab": {}
      },
      "source": [
        "word_index = tokenizer.word_index\n",
        "nb_words = min(vocab_size, len(word_index)) \n",
        "embedding_matrix = np.random.normal(emb_mean, emb_std, (nb_words, embedding_dim))\n",
        "\n",
        "for word, i in word_index.items():\n",
        "    if i >= vocab_size: \n",
        "        continue\n",
        "    embedding_vector = embeddings_index.get(word)\n",
        "    if embedding_vector is not None: \n",
        "        embedding_matrix[i] = embedding_vector"
      ],
      "execution_count": 0,
      "outputs": []
    },
    {
      "cell_type": "code",
      "metadata": {
        "id": "Z6iahNFuRbEz",
        "colab_type": "code",
        "colab": {}
      },
      "source": [
        "from keras.models import Sequential\n",
        "from keras.layers import LSTM, Dense, Activation, Embedding, Bidirectional, GRU, Conv1D, MaxPooling1D, Flatten\n",
        "\n",
        "from sklearn.model_selection import train_test_split\n",
        "from sklearn.metrics import classification_report, confusion_matrix"
      ],
      "execution_count": 0,
      "outputs": []
    },
    {
      "cell_type": "markdown",
      "metadata": {
        "id": "UHFmT4cgt45u",
        "colab_type": "text"
      },
      "source": [
        "**Using early stopping function to calculate the number of epochs**"
      ]
    },
    {
      "cell_type": "code",
      "metadata": {
        "id": "8hRqNLazEZII",
        "colab_type": "code",
        "colab": {}
      },
      "source": [
        "from keras.callbacks import EarlyStopping\n",
        "early_stopping = EarlyStopping(min_delta = 0.001, mode = 'max', monitor='val_categorical_accuracy', patience = 2)\n",
        "callback = [early_stopping]"
      ],
      "execution_count": 0,
      "outputs": []
    },
    {
      "cell_type": "code",
      "metadata": {
        "id": "741lFdUBG4r0",
        "colab_type": "code",
        "colab": {}
      },
      "source": [
        "import warnings\n",
        "warnings.simplefilter('ignore')"
      ],
      "execution_count": 0,
      "outputs": []
    },
    {
      "cell_type": "markdown",
      "metadata": {
        "id": "lERIqX4ZuF36",
        "colab_type": "text"
      },
      "source": [
        "**Function to create a plot of the confusion matrix**"
      ]
    },
    {
      "cell_type": "code",
      "metadata": {
        "id": "-uPFbhrqyKHu",
        "colab_type": "code",
        "colab": {}
      },
      "source": [
        "import matplotlib.pyplot as plt\n",
        "\n",
        "def plot_confusion_matrix(y_true, y_pred,\n",
        "                          title=None,\n",
        "                          cmap=plt.cm.Blues):\n",
        "    # Compute confusion matrix\n",
        "    cm = confusion_matrix(y_true, y_pred)\n",
        "    # Only use the labels that appear in the data\n",
        "    classes = ['negative','neutral','positive']\n",
        "\n",
        "    fig, ax = plt.subplots()\n",
        "    im = ax.imshow(cm, interpolation='nearest', cmap=cmap)\n",
        "    # We want to show all ticks...\n",
        "    ax.set(xticks=np.arange(3),\n",
        "           yticks=np.arange(3),\n",
        "           xticklabels=classes, yticklabels=classes,\n",
        "           title=title,\n",
        "           ylabel='True label',\n",
        "           xlabel='Predicted label')\n",
        "    \n",
        "    thresh = cm.max() / 2.\n",
        "    for i in range(cm.shape[0]):\n",
        "        for j in range(cm.shape[1]):\n",
        "            ax.text(j, i, format(cm[i, j], 'd'),\n",
        "                    ha=\"center\", va=\"center\",\n",
        "                    color=\"white\" if cm[i, j] > thresh else \"black\")\n",
        "    bottom, top = ax.get_ylim()\n",
        "    ax.set_ylim(bottom + 0.5, top - 0.5)\n",
        "    return ax"
      ],
      "execution_count": 0,
      "outputs": []
    },
    {
      "cell_type": "markdown",
      "metadata": {
        "id": "FL-awoa0uN-w",
        "colab_type": "text"
      },
      "source": [
        "**Splitting the data and labels into the training and testing data**"
      ]
    },
    {
      "cell_type": "code",
      "metadata": {
        "id": "YoAsHDggr_uZ",
        "colab_type": "code",
        "colab": {}
      },
      "source": [
        "X_train, X_test, Y_train, Y_test = train_test_split(data, labels, test_size=0.25, random_state=100)"
      ],
      "execution_count": 0,
      "outputs": []
    },
    {
      "cell_type": "markdown",
      "metadata": {
        "id": "NFc9HBcVvP05",
        "colab_type": "text"
      },
      "source": [
        "**Creating the GRU Model, training it on the training data and getting the predictions for the test data**"
      ]
    },
    {
      "cell_type": "code",
      "metadata": {
        "id": "qGUMXzV5N_1B",
        "colab_type": "code",
        "outputId": "bd20c6c8-6c0f-4a1b-a003-4c14b8dcfa50",
        "colab": {
          "base_uri": "https://localhost:8080/",
          "height": 170
        }
      },
      "source": [
        "!pip install keras-self-attention\n",
        "from keras_self_attention.seq_self_attention import SeqSelfAttention"
      ],
      "execution_count": 0,
      "outputs": [
        {
          "output_type": "stream",
          "text": [
            "Requirement already satisfied: keras-self-attention in /usr/local/lib/python3.6/dist-packages (0.42.0)\n",
            "Requirement already satisfied: Keras in /usr/local/lib/python3.6/dist-packages (from keras-self-attention) (2.2.5)\n",
            "Requirement already satisfied: numpy in /usr/local/lib/python3.6/dist-packages (from keras-self-attention) (1.17.5)\n",
            "Requirement already satisfied: scipy>=0.14 in /usr/local/lib/python3.6/dist-packages (from Keras->keras-self-attention) (1.4.1)\n",
            "Requirement already satisfied: keras-applications>=1.0.8 in /usr/local/lib/python3.6/dist-packages (from Keras->keras-self-attention) (1.0.8)\n",
            "Requirement already satisfied: six>=1.9.0 in /usr/local/lib/python3.6/dist-packages (from Keras->keras-self-attention) (1.12.0)\n",
            "Requirement already satisfied: h5py in /usr/local/lib/python3.6/dist-packages (from Keras->keras-self-attention) (2.8.0)\n",
            "Requirement already satisfied: keras-preprocessing>=1.1.0 in /usr/local/lib/python3.6/dist-packages (from Keras->keras-self-attention) (1.1.0)\n",
            "Requirement already satisfied: pyyaml in /usr/local/lib/python3.6/dist-packages (from Keras->keras-self-attention) (3.13)\n"
          ],
          "name": "stdout"
        }
      ]
    },
    {
      "cell_type": "code",
      "metadata": {
        "id": "aWRTuOTBRgWB",
        "colab_type": "code",
        "outputId": "7271869e-06aa-4c66-97f6-d5c3a0f17ad9",
        "colab": {
          "base_uri": "https://localhost:8080/",
          "height": 1000
        }
      },
      "source": [
        "model = Sequential()\n",
        "model.add(Embedding(vocab_size, \n",
        "                    embedding_dim, \n",
        "                    input_length=150, \n",
        "                    weights = [embedding_matrix], \n",
        "                    trainable = False))\n",
        "# model.add(Conv1D(filters = 128,\n",
        "#                  kernel_size = 5,\n",
        "#                  padding='valid',\n",
        "#                  activation='relu',\n",
        "#                  strides=1))\n",
        "model.add(GRU(128, return_sequences=True, recurrent_dropout=0.1))\n",
        "model.add(SeqSelfAttention(attention_activation='sigmoid'))\n",
        "model.add(Flatten())\n",
        "# model.add(Bidirectional(GRU(128, recurrent_dropout=0.1)))\n",
        "model.add(Dense(3, activation='softmax'))\n",
        "model.summary()\n",
        "\n",
        "model.compile(optimizer='adam',\n",
        "              loss='categorical_crossentropy',\n",
        "              metrics=['categorical_accuracy'])\n",
        "history = model.fit(X_train,Y_train,epochs=10,callbacks=callback, validation_data = [X_test, Y_test]);\n",
        "\n",
        "Y_pred = model.predict(X_test, verbose=1)"
      ],
      "execution_count": 0,
      "outputs": [
        {
          "output_type": "stream",
          "text": [
            "WARNING:tensorflow:From /usr/local/lib/python3.6/dist-packages/keras/backend/tensorflow_backend.py:66: The name tf.get_default_graph is deprecated. Please use tf.compat.v1.get_default_graph instead.\n",
            "\n",
            "WARNING:tensorflow:From /usr/local/lib/python3.6/dist-packages/keras/backend/tensorflow_backend.py:541: The name tf.placeholder is deprecated. Please use tf.compat.v1.placeholder instead.\n",
            "\n",
            "WARNING:tensorflow:From /usr/local/lib/python3.6/dist-packages/keras/backend/tensorflow_backend.py:4432: The name tf.random_uniform is deprecated. Please use tf.random.uniform instead.\n",
            "\n",
            "WARNING:tensorflow:From /usr/local/lib/python3.6/dist-packages/keras/backend/tensorflow_backend.py:190: The name tf.get_default_session is deprecated. Please use tf.compat.v1.get_default_session instead.\n",
            "\n",
            "WARNING:tensorflow:From /usr/local/lib/python3.6/dist-packages/keras/backend/tensorflow_backend.py:197: The name tf.ConfigProto is deprecated. Please use tf.compat.v1.ConfigProto instead.\n",
            "\n",
            "WARNING:tensorflow:From /usr/local/lib/python3.6/dist-packages/keras/backend/tensorflow_backend.py:203: The name tf.Session is deprecated. Please use tf.compat.v1.Session instead.\n",
            "\n",
            "WARNING:tensorflow:From /usr/local/lib/python3.6/dist-packages/keras/backend/tensorflow_backend.py:207: The name tf.global_variables is deprecated. Please use tf.compat.v1.global_variables instead.\n",
            "\n",
            "WARNING:tensorflow:From /usr/local/lib/python3.6/dist-packages/keras/backend/tensorflow_backend.py:216: The name tf.is_variable_initialized is deprecated. Please use tf.compat.v1.is_variable_initialized instead.\n",
            "\n",
            "WARNING:tensorflow:From /usr/local/lib/python3.6/dist-packages/keras/backend/tensorflow_backend.py:223: The name tf.variables_initializer is deprecated. Please use tf.compat.v1.variables_initializer instead.\n",
            "\n",
            "WARNING:tensorflow:From /usr/local/lib/python3.6/dist-packages/keras/backend/tensorflow_backend.py:148: The name tf.placeholder_with_default is deprecated. Please use tf.compat.v1.placeholder_with_default instead.\n",
            "\n",
            "WARNING:tensorflow:From /usr/local/lib/python3.6/dist-packages/keras/backend/tensorflow_backend.py:3733: calling dropout (from tensorflow.python.ops.nn_ops) with keep_prob is deprecated and will be removed in a future version.\n",
            "Instructions for updating:\n",
            "Please use `rate` instead of `keep_prob`. Rate should be set to `rate = 1 - keep_prob`.\n",
            "WARNING:tensorflow:From /usr/local/lib/python3.6/dist-packages/keras/backend/tensorflow_backend.py:4479: The name tf.truncated_normal is deprecated. Please use tf.random.truncated_normal instead.\n",
            "\n",
            "Model: \"sequential_1\"\n",
            "_________________________________________________________________\n",
            "Layer (type)                 Output Shape              Param #   \n",
            "=================================================================\n",
            "embedding_1 (Embedding)      (None, 150, 300)          6000000   \n",
            "_________________________________________________________________\n",
            "gru_1 (GRU)                  (None, 150, 128)          164736    \n",
            "_________________________________________________________________\n",
            "seq_self_attention_1 (SeqSel (None, 150, 128)          8257      \n",
            "_________________________________________________________________\n",
            "flatten_1 (Flatten)          (None, 19200)             0         \n",
            "_________________________________________________________________\n",
            "dense_1 (Dense)              (None, 3)                 57603     \n",
            "=================================================================\n",
            "Total params: 6,230,596\n",
            "Trainable params: 230,596\n",
            "Non-trainable params: 6,000,000\n",
            "_________________________________________________________________\n",
            "WARNING:tensorflow:From /usr/local/lib/python3.6/dist-packages/keras/optimizers.py:793: The name tf.train.Optimizer is deprecated. Please use tf.compat.v1.train.Optimizer instead.\n",
            "\n",
            "WARNING:tensorflow:From /usr/local/lib/python3.6/dist-packages/keras/backend/tensorflow_backend.py:3576: The name tf.log is deprecated. Please use tf.math.log instead.\n",
            "\n",
            "WARNING:tensorflow:From /usr/local/lib/python3.6/dist-packages/tensorflow_core/python/ops/math_grad.py:1424: where (from tensorflow.python.ops.array_ops) is deprecated and will be removed in a future version.\n",
            "Instructions for updating:\n",
            "Use tf.where in 2.0, which has the same broadcast rule as np.where\n",
            "WARNING:tensorflow:From /usr/local/lib/python3.6/dist-packages/keras/backend/tensorflow_backend.py:1033: The name tf.assign_add is deprecated. Please use tf.compat.v1.assign_add instead.\n",
            "\n",
            "WARNING:tensorflow:From /usr/local/lib/python3.6/dist-packages/keras/backend/tensorflow_backend.py:1020: The name tf.assign is deprecated. Please use tf.compat.v1.assign instead.\n",
            "\n",
            "Train on 90000 samples, validate on 30000 samples\n",
            "Epoch 1/10\n",
            "90000/90000 [==============================] - 1332s 15ms/step - loss: 0.8296 - categorical_accuracy: 0.6136 - val_loss: 0.7746 - val_categorical_accuracy: 0.6627\n",
            "Epoch 2/10\n",
            "90000/90000 [==============================] - 1332s 15ms/step - loss: 0.7042 - categorical_accuracy: 0.6883 - val_loss: 0.7307 - val_categorical_accuracy: 0.6807\n",
            "Epoch 3/10\n",
            "90000/90000 [==============================] - 1329s 15ms/step - loss: 0.6478 - categorical_accuracy: 0.7180 - val_loss: 0.6813 - val_categorical_accuracy: 0.7060\n",
            "Epoch 4/10\n",
            "90000/90000 [==============================] - 1338s 15ms/step - loss: 0.6001 - categorical_accuracy: 0.7429 - val_loss: 0.6893 - val_categorical_accuracy: 0.7125\n",
            "Epoch 5/10\n",
            "90000/90000 [==============================] - 1344s 15ms/step - loss: 0.5538 - categorical_accuracy: 0.7651 - val_loss: 0.7326 - val_categorical_accuracy: 0.7083\n",
            "Epoch 6/10\n",
            "90000/90000 [==============================] - 1348s 15ms/step - loss: 0.5174 - categorical_accuracy: 0.7828 - val_loss: 0.7238 - val_categorical_accuracy: 0.7123\n",
            "30000/30000 [==============================] - 118s 4ms/step\n"
          ],
          "name": "stdout"
        }
      ]
    },
    {
      "cell_type": "markdown",
      "metadata": {
        "id": "0rigOegwvhio",
        "colab_type": "text"
      },
      "source": [
        "**Creating the plots for the confusion matrix, accuracy and loss function**"
      ]
    },
    {
      "cell_type": "code",
      "metadata": {
        "id": "vUe79c29-txA",
        "colab_type": "code",
        "outputId": "df8abd20-5dc6-4545-f17f-6699fac66731",
        "colab": {
          "base_uri": "https://localhost:8080/",
          "height": 1000
        }
      },
      "source": [
        "print(classification_report(Y_test.argmax(axis=1), Y_pred.argmax(axis=1)))\n",
        "\n",
        "plot_confusion_matrix(Y_test.argmax(axis=1),Y_pred.argmax(axis=1))\n",
        "plt.show()\n",
        "\n",
        "plt.plot(history.history['categorical_accuracy'])\n",
        "plt.plot(history.history['val_categorical_accuracy'])\n",
        "plt.title('model accuracy')\n",
        "plt.ylabel('accuracy')\n",
        "plt.xlabel('epoch')\n",
        "plt.legend(['train', 'val'], loc='upper left')\n",
        "plt.show()\n",
        "\n",
        "plt.plot(history.history['loss'])\n",
        "plt.plot(history.history['val_loss'])\n",
        "plt.title('model loss')\n",
        "plt.ylabel('loss')\n",
        "plt.xlabel('epoch')\n",
        "plt.legend(['train', 'val'], loc='upper left')\n",
        "plt.show()"
      ],
      "execution_count": 0,
      "outputs": [
        {
          "output_type": "stream",
          "text": [
            "              precision    recall  f1-score   support\n",
            "\n",
            "           0       0.66      0.83      0.73      9967\n",
            "           1       0.67      0.50      0.57     10035\n",
            "           2       0.81      0.81      0.81      9998\n",
            "\n",
            "    accuracy                           0.71     30000\n",
            "   macro avg       0.71      0.71      0.71     30000\n",
            "weighted avg       0.71      0.71      0.71     30000\n",
            "\n"
          ],
          "name": "stdout"
        },
        {
          "output_type": "display_data",
          "data": {
            "image/png": "[encoded data removed]",
            "text/plain": [
              "<Figure size 432x288 with 1 Axes>"
            ]
          },
          "metadata": {
            "tags": []
          }
        },
        {
          "output_type": "display_data",
          "data": {
            "image/png": "[encoded data removed]",
            "text/plain": [
              "<Figure size 432x288 with 1 Axes>"
            ]
          },
          "metadata": {
            "tags": []
          }
        },
        {
          "output_type": "display_data",
          "data": {
            "image/png": "[encoded data removed]",
            "text/plain": [
              "<Figure size 432x288 with 1 Axes>"
            ]
          },
          "metadata": {
            "tags": []
          }
        }
      ]
    },
    {
      "cell_type": "code",
      "metadata": {
        "id": "082qXIRw_3GI",
        "colab_type": "code",
        "outputId": "59df76fb-639e-49cd-89a4-358997122cff",
        "colab": {
          "base_uri": "https://localhost:8080/",
          "height": 34
        }
      },
      "source": [
        "check = ['I was not fully satisfied with this!']\n",
        "data_check = pad_sequences(tokenizer.texts_to_sequences(check), maxlen = 150)\n",
        "out = model.predict(data_check).argmax(axis=1)[0]\n",
        "sentiment = \"negative\" if out == 0 else \"positive\" if out == 2 else \"neutral\" \n",
        "print(check, \"->\" , sentiment)"
      ],
      "execution_count": 0,
      "outputs": [
        {
          "output_type": "stream",
          "text": [
            "['I was not fully satisfied with this!'] -> neutral\n"
          ],
          "name": "stdout"
        }
      ]
    },
    {
      "cell_type": "code",
      "metadata": {
        "id": "OoZlBk8x_-c9",
        "colab_type": "code",
        "outputId": "df0971ef-973d-4fbe-ae6b-7cb0e46eed44",
        "colab": {
          "base_uri": "https://localhost:8080/",
          "height": 129
        }
      },
      "source": [
        "Thank you!"
      ],
      "execution_count": 0,
      "outputs": [
        {
          "output_type": "error",
          "ename": "SyntaxError",
          "evalue": "ignored",
          "traceback": [
            "\u001b[0;36m  File \u001b[0;32m\"<ipython-input-31-862240c8a44d>\"\u001b[0;36m, line \u001b[0;32m1\u001b[0m\n\u001b[0;31m    Thank you!\u001b[0m\n\u001b[0m            ^\u001b[0m\n\u001b[0;31mSyntaxError\u001b[0m\u001b[0;31m:\u001b[0m invalid syntax\n"
          ]
        }
      ]
    }
  ]
}
